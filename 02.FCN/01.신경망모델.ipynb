{
 "cells": [
  {
   "cell_type": "markdown",
   "metadata": {},
   "source": [
    "## 신경망 모델\n",
    "#### - 이진 분류: 유방암 예측 사례"
   ]
  },
  {
   "cell_type": "code",
   "execution_count": 1,
   "metadata": {},
   "outputs": [],
   "source": [
    "import numpy as np\n",
    "import pandas as pd\n",
    "import matplotlib.pyplot as plt\n"
   ]
  },
  {
   "cell_type": "markdown",
   "metadata": {},
   "source": [
    "- 데이터 준비"
   ]
  },
  {
   "cell_type": "code",
   "execution_count": 2,
   "metadata": {},
   "outputs": [
    {
     "data": {
      "text/plain": [
       "(569, 30)"
      ]
     },
     "execution_count": 2,
     "metadata": {},
     "output_type": "execute_result"
    }
   ],
   "source": [
    "from sklearn.datasets import load_breast_cancer\n",
    "from sklearn.preprocessing import StandardScaler\n",
    "cancer = load_breast_cancer()\n",
    "cancer.data.shape"
   ]
  },
  {
   "cell_type": "code",
   "execution_count": 3,
   "metadata": {},
   "outputs": [],
   "source": [
    "cancer_std = StandardScaler().fit_transform(cancer.data)"
   ]
  },
  {
   "cell_type": "markdown",
   "metadata": {},
   "source": [
    "#### 1. 데이터를 정규/표준화 하지 않은 경우"
   ]
  },
  {
   "cell_type": "code",
   "execution_count": 4,
   "metadata": {},
   "outputs": [],
   "source": [
    "from sklearn.model_selection import train_test_split\n",
    "X_train, X_test, y_train, y_test = train_test_split(\n",
    "    cancer.data, cancer.target, stratify=cancer.target, test_size=0.2, random_state=2023\n",
    ")"
   ]
  },
  {
   "cell_type": "markdown",
   "metadata": {},
   "source": [
    "- 모델 정의"
   ]
  },
  {
   "cell_type": "code",
   "execution_count": 5,
   "metadata": {},
   "outputs": [],
   "source": [
    "from tensorflow.keras.models import Sequential\n",
    "from tensorflow.keras.layers import Dense       # Fully Connected Network"
   ]
  },
  {
   "cell_type": "code",
   "execution_count": 6,
   "metadata": {},
   "outputs": [
    {
     "name": "stdout",
     "output_type": "stream",
     "text": [
      "Model: \"sequential\"\n",
      "_________________________________________________________________\n",
      " Layer (type)                Output Shape              Param #   \n",
      "=================================================================\n",
      " dense (Dense)               (None, 100)               3100      \n",
      "                                                                 \n",
      " dense_1 (Dense)             (None, 24)                2424      \n",
      "                                                                 \n",
      " dense_2 (Dense)             (None, 1)                 25        \n",
      "                                                                 \n",
      "=================================================================\n",
      "Total params: 5549 (21.68 KB)\n",
      "Trainable params: 5549 (21.68 KB)\n",
      "Non-trainable params: 0 (0.00 Byte)\n",
      "_________________________________________________________________\n"
     ]
    }
   ],
   "source": [
    "model = Sequential([\n",
    "    Dense(100, input_dim=30, activation='relu'),\n",
    "    Dense(24, activation='relu'),\n",
    "    Dense(1, activation='sigmoid')\n",
    "])\n",
    "model.summary()"
   ]
  },
  {
   "cell_type": "markdown",
   "metadata": {},
   "source": [
    "- 모델 설정(컴파일)"
   ]
  },
  {
   "cell_type": "code",
   "execution_count": 7,
   "metadata": {},
   "outputs": [],
   "source": [
    "model.compile(\n",
    "    optimizer='adam',\n",
    "    loss='binary_crossentropy',\n",
    "    metrics=['accuracy']\n",
    ")"
   ]
  },
  {
   "cell_type": "markdown",
   "metadata": {},
   "source": [
    "- 모델 학습"
   ]
  },
  {
   "cell_type": "code",
   "execution_count": 8,
   "metadata": {},
   "outputs": [
    {
     "name": "stdout",
     "output_type": "stream",
     "text": [
      "Epoch 1/100\n",
      "4/4 [==============================] - 1s 83ms/step - loss: 47.5342 - accuracy: 0.3599 - val_loss: 28.6674 - val_accuracy: 0.4286\n",
      "Epoch 2/100\n",
      "4/4 [==============================] - 0s 12ms/step - loss: 21.9735 - accuracy: 0.3599 - val_loss: 6.5540 - val_accuracy: 0.4286\n",
      "Epoch 3/100\n",
      "4/4 [==============================] - 0s 13ms/step - loss: 5.1341 - accuracy: 0.4588 - val_loss: 12.6227 - val_accuracy: 0.5714\n",
      "Epoch 4/100\n",
      "4/4 [==============================] - 0s 12ms/step - loss: 9.3422 - accuracy: 0.6401 - val_loss: 4.8896 - val_accuracy: 0.5934\n",
      "Epoch 5/100\n",
      "4/4 [==============================] - 0s 11ms/step - loss: 2.0324 - accuracy: 0.5852 - val_loss: 3.8085 - val_accuracy: 0.4286\n",
      "Epoch 6/100\n",
      "4/4 [==============================] - 0s 12ms/step - loss: 3.5060 - accuracy: 0.3626 - val_loss: 0.7508 - val_accuracy: 0.6484\n",
      "Epoch 7/100\n",
      "4/4 [==============================] - 0s 12ms/step - loss: 0.7071 - accuracy: 0.7967 - val_loss: 2.0882 - val_accuracy: 0.6703\n",
      "Epoch 8/100\n",
      "4/4 [==============================] - 0s 13ms/step - loss: 1.3383 - accuracy: 0.7857 - val_loss: 0.1768 - val_accuracy: 0.9231\n",
      "Epoch 9/100\n",
      "4/4 [==============================] - 0s 11ms/step - loss: 0.3942 - accuracy: 0.8407 - val_loss: 0.9608 - val_accuracy: 0.6484\n",
      "Epoch 10/100\n",
      "4/4 [==============================] - 0s 11ms/step - loss: 0.6250 - accuracy: 0.7885 - val_loss: 0.1569 - val_accuracy: 0.9231\n",
      "Epoch 11/100\n",
      "4/4 [==============================] - 0s 13ms/step - loss: 0.3048 - accuracy: 0.8984 - val_loss: 0.4562 - val_accuracy: 0.8462\n",
      "Epoch 12/100\n",
      "4/4 [==============================] - 0s 13ms/step - loss: 0.3506 - accuracy: 0.8819 - val_loss: 0.1691 - val_accuracy: 0.9341\n",
      "Epoch 13/100\n",
      "4/4 [==============================] - 0s 12ms/step - loss: 0.2887 - accuracy: 0.8929 - val_loss: 0.3352 - val_accuracy: 0.8462\n",
      "Epoch 14/100\n",
      "4/4 [==============================] - 0s 11ms/step - loss: 0.2559 - accuracy: 0.9038 - val_loss: 0.2058 - val_accuracy: 0.9121\n",
      "Epoch 15/100\n",
      "4/4 [==============================] - 0s 11ms/step - loss: 0.2668 - accuracy: 0.9176 - val_loss: 0.1911 - val_accuracy: 0.9231\n",
      "Epoch 16/100\n",
      "4/4 [==============================] - 0s 12ms/step - loss: 0.2018 - accuracy: 0.9341 - val_loss: 0.2301 - val_accuracy: 0.9231\n",
      "Epoch 17/100\n",
      "4/4 [==============================] - 0s 12ms/step - loss: 0.2376 - accuracy: 0.8984 - val_loss: 0.1751 - val_accuracy: 0.9231\n",
      "Epoch 18/100\n",
      "4/4 [==============================] - 0s 12ms/step - loss: 0.2023 - accuracy: 0.9286 - val_loss: 0.1805 - val_accuracy: 0.9231\n",
      "Epoch 19/100\n",
      "4/4 [==============================] - 0s 11ms/step - loss: 0.2112 - accuracy: 0.9313 - val_loss: 0.1660 - val_accuracy: 0.9341\n",
      "Epoch 20/100\n",
      "4/4 [==============================] - 0s 11ms/step - loss: 0.2104 - accuracy: 0.9176 - val_loss: 0.1852 - val_accuracy: 0.9341\n",
      "Epoch 21/100\n",
      "4/4 [==============================] - 0s 13ms/step - loss: 0.1964 - accuracy: 0.9313 - val_loss: 0.1678 - val_accuracy: 0.9231\n",
      "Epoch 22/100\n",
      "4/4 [==============================] - 0s 12ms/step - loss: 0.2006 - accuracy: 0.9341 - val_loss: 0.1688 - val_accuracy: 0.9231\n",
      "Epoch 23/100\n",
      "4/4 [==============================] - 0s 12ms/step - loss: 0.1960 - accuracy: 0.9341 - val_loss: 0.1787 - val_accuracy: 0.9231\n",
      "Epoch 24/100\n",
      "4/4 [==============================] - 0s 12ms/step - loss: 0.1982 - accuracy: 0.9231 - val_loss: 0.1729 - val_accuracy: 0.9231\n",
      "Epoch 25/100\n",
      "4/4 [==============================] - 0s 11ms/step - loss: 0.1890 - accuracy: 0.9368 - val_loss: 0.1704 - val_accuracy: 0.9231\n",
      "Epoch 26/100\n",
      "4/4 [==============================] - 0s 11ms/step - loss: 0.2008 - accuracy: 0.9368 - val_loss: 0.1685 - val_accuracy: 0.9341\n",
      "Epoch 27/100\n",
      "4/4 [==============================] - 0s 12ms/step - loss: 0.1902 - accuracy: 0.9368 - val_loss: 0.1880 - val_accuracy: 0.9341\n",
      "Epoch 28/100\n",
      "4/4 [==============================] - 0s 11ms/step - loss: 0.1936 - accuracy: 0.9203 - val_loss: 0.1682 - val_accuracy: 0.9341\n",
      "Epoch 29/100\n",
      "4/4 [==============================] - 0s 21ms/step - loss: 0.1939 - accuracy: 0.9368 - val_loss: 0.1705 - val_accuracy: 0.9231\n",
      "Epoch 30/100\n",
      "4/4 [==============================] - 0s 11ms/step - loss: 0.1883 - accuracy: 0.9341 - val_loss: 0.1825 - val_accuracy: 0.9231\n",
      "Epoch 31/100\n",
      "4/4 [==============================] - 0s 14ms/step - loss: 0.1937 - accuracy: 0.9258 - val_loss: 0.1699 - val_accuracy: 0.9231\n",
      "Epoch 32/100\n",
      "4/4 [==============================] - 0s 17ms/step - loss: 0.1920 - accuracy: 0.9341 - val_loss: 0.1685 - val_accuracy: 0.9341\n",
      "Epoch 33/100\n",
      "4/4 [==============================] - 0s 17ms/step - loss: 0.1885 - accuracy: 0.9286 - val_loss: 0.1724 - val_accuracy: 0.9231\n",
      "Epoch 34/100\n",
      "4/4 [==============================] - 0s 14ms/step - loss: 0.1871 - accuracy: 0.9313 - val_loss: 0.1681 - val_accuracy: 0.9231\n",
      "Epoch 35/100\n",
      "4/4 [==============================] - 0s 18ms/step - loss: 0.1872 - accuracy: 0.9341 - val_loss: 0.1677 - val_accuracy: 0.9231\n",
      "Epoch 36/100\n",
      "4/4 [==============================] - 0s 13ms/step - loss: 0.1862 - accuracy: 0.9341 - val_loss: 0.1665 - val_accuracy: 0.9341\n",
      "Epoch 37/100\n",
      "4/4 [==============================] - 0s 13ms/step - loss: 0.1859 - accuracy: 0.9341 - val_loss: 0.1686 - val_accuracy: 0.9231\n",
      "Epoch 38/100\n",
      "4/4 [==============================] - 0s 12ms/step - loss: 0.1869 - accuracy: 0.9313 - val_loss: 0.1683 - val_accuracy: 0.9231\n",
      "Epoch 39/100\n",
      "4/4 [==============================] - 0s 13ms/step - loss: 0.1890 - accuracy: 0.9286 - val_loss: 0.1665 - val_accuracy: 0.9341\n",
      "Epoch 40/100\n",
      "4/4 [==============================] - 0s 11ms/step - loss: 0.1973 - accuracy: 0.9258 - val_loss: 0.1728 - val_accuracy: 0.9231\n",
      "Epoch 41/100\n",
      "4/4 [==============================] - 0s 12ms/step - loss: 0.1873 - accuracy: 0.9341 - val_loss: 0.1692 - val_accuracy: 0.9231\n",
      "Epoch 42/100\n",
      "4/4 [==============================] - 0s 12ms/step - loss: 0.1869 - accuracy: 0.9313 - val_loss: 0.1790 - val_accuracy: 0.9231\n",
      "Epoch 43/100\n",
      "4/4 [==============================] - 0s 12ms/step - loss: 0.1920 - accuracy: 0.9231 - val_loss: 0.1668 - val_accuracy: 0.9231\n",
      "Epoch 44/100\n",
      "4/4 [==============================] - 0s 12ms/step - loss: 0.1824 - accuracy: 0.9368 - val_loss: 0.1663 - val_accuracy: 0.9341\n",
      "Epoch 45/100\n",
      "4/4 [==============================] - 0s 12ms/step - loss: 0.1867 - accuracy: 0.9286 - val_loss: 0.1674 - val_accuracy: 0.9231\n",
      "Epoch 46/100\n",
      "4/4 [==============================] - 0s 12ms/step - loss: 0.1840 - accuracy: 0.9341 - val_loss: 0.1663 - val_accuracy: 0.9341\n",
      "Epoch 47/100\n",
      "4/4 [==============================] - 0s 11ms/step - loss: 0.1918 - accuracy: 0.9313 - val_loss: 0.1663 - val_accuracy: 0.9231\n",
      "Epoch 48/100\n",
      "4/4 [==============================] - 0s 11ms/step - loss: 0.1876 - accuracy: 0.9203 - val_loss: 0.1793 - val_accuracy: 0.9231\n",
      "Epoch 49/100\n",
      "4/4 [==============================] - 0s 11ms/step - loss: 0.1812 - accuracy: 0.9258 - val_loss: 0.1698 - val_accuracy: 0.9231\n",
      "Epoch 50/100\n",
      "4/4 [==============================] - 0s 12ms/step - loss: 0.1926 - accuracy: 0.9313 - val_loss: 0.1670 - val_accuracy: 0.9231\n",
      "Epoch 51/100\n",
      "4/4 [==============================] - 0s 12ms/step - loss: 0.1802 - accuracy: 0.9258 - val_loss: 0.1755 - val_accuracy: 0.9231\n",
      "Epoch 52/100\n",
      "4/4 [==============================] - 0s 12ms/step - loss: 0.1809 - accuracy: 0.9286 - val_loss: 0.1676 - val_accuracy: 0.9341\n",
      "Epoch 53/100\n",
      "4/4 [==============================] - 0s 13ms/step - loss: 0.1841 - accuracy: 0.9341 - val_loss: 0.1682 - val_accuracy: 0.9231\n",
      "Epoch 54/100\n",
      "4/4 [==============================] - 0s 16ms/step - loss: 0.1822 - accuracy: 0.9313 - val_loss: 0.1671 - val_accuracy: 0.9231\n",
      "Epoch 55/100\n",
      "4/4 [==============================] - 0s 11ms/step - loss: 0.1789 - accuracy: 0.9313 - val_loss: 0.1673 - val_accuracy: 0.9231\n",
      "Epoch 56/100\n",
      "4/4 [==============================] - 0s 14ms/step - loss: 0.1809 - accuracy: 0.9258 - val_loss: 0.1668 - val_accuracy: 0.9231\n",
      "Epoch 57/100\n",
      "4/4 [==============================] - 0s 15ms/step - loss: 0.1781 - accuracy: 0.9341 - val_loss: 0.1677 - val_accuracy: 0.9231\n",
      "Epoch 58/100\n",
      "4/4 [==============================] - 0s 17ms/step - loss: 0.1782 - accuracy: 0.9313 - val_loss: 0.1698 - val_accuracy: 0.9231\n",
      "Epoch 59/100\n",
      "4/4 [==============================] - 0s 18ms/step - loss: 0.1856 - accuracy: 0.9313 - val_loss: 0.1674 - val_accuracy: 0.9231\n",
      "Epoch 60/100\n",
      "4/4 [==============================] - 0s 16ms/step - loss: 0.1839 - accuracy: 0.9286 - val_loss: 0.1718 - val_accuracy: 0.9231\n",
      "Epoch 61/100\n",
      "4/4 [==============================] - 0s 12ms/step - loss: 0.1789 - accuracy: 0.9286 - val_loss: 0.1663 - val_accuracy: 0.9341\n",
      "Epoch 62/100\n",
      "4/4 [==============================] - 0s 11ms/step - loss: 0.1792 - accuracy: 0.9313 - val_loss: 0.1765 - val_accuracy: 0.9231\n",
      "Epoch 63/100\n",
      "4/4 [==============================] - 0s 12ms/step - loss: 0.1873 - accuracy: 0.9203 - val_loss: 0.1653 - val_accuracy: 0.9231\n",
      "Epoch 64/100\n",
      "4/4 [==============================] - 0s 13ms/step - loss: 0.1798 - accuracy: 0.9313 - val_loss: 0.1698 - val_accuracy: 0.9231\n",
      "Epoch 65/100\n",
      "4/4 [==============================] - 0s 14ms/step - loss: 0.1807 - accuracy: 0.9258 - val_loss: 0.1652 - val_accuracy: 0.9231\n",
      "Epoch 66/100\n",
      "4/4 [==============================] - 0s 15ms/step - loss: 0.1833 - accuracy: 0.9341 - val_loss: 0.1696 - val_accuracy: 0.9231\n",
      "Epoch 67/100\n",
      "4/4 [==============================] - 0s 14ms/step - loss: 0.1793 - accuracy: 0.9396 - val_loss: 0.1681 - val_accuracy: 0.9341\n",
      "Epoch 68/100\n",
      "4/4 [==============================] - 0s 13ms/step - loss: 0.1777 - accuracy: 0.9368 - val_loss: 0.1712 - val_accuracy: 0.9231\n",
      "Epoch 69/100\n",
      "4/4 [==============================] - 0s 11ms/step - loss: 0.1754 - accuracy: 0.9313 - val_loss: 0.1660 - val_accuracy: 0.9231\n",
      "Epoch 70/100\n",
      "4/4 [==============================] - 0s 11ms/step - loss: 0.1748 - accuracy: 0.9313 - val_loss: 0.1659 - val_accuracy: 0.9231\n",
      "Epoch 71/100\n",
      "4/4 [==============================] - 0s 12ms/step - loss: 0.1782 - accuracy: 0.9258 - val_loss: 0.1652 - val_accuracy: 0.9231\n",
      "Epoch 72/100\n",
      "4/4 [==============================] - 0s 11ms/step - loss: 0.1749 - accuracy: 0.9313 - val_loss: 0.1699 - val_accuracy: 0.9231\n",
      "Epoch 73/100\n",
      "4/4 [==============================] - 0s 22ms/step - loss: 0.1731 - accuracy: 0.9313 - val_loss: 0.1649 - val_accuracy: 0.9341\n",
      "Epoch 74/100\n",
      "4/4 [==============================] - 0s 14ms/step - loss: 0.1773 - accuracy: 0.9341 - val_loss: 0.1652 - val_accuracy: 0.9231\n",
      "Epoch 75/100\n",
      "4/4 [==============================] - 0s 13ms/step - loss: 0.1791 - accuracy: 0.9258 - val_loss: 0.1640 - val_accuracy: 0.9231\n",
      "Epoch 76/100\n",
      "4/4 [==============================] - 0s 13ms/step - loss: 0.1738 - accuracy: 0.9396 - val_loss: 0.1635 - val_accuracy: 0.9341\n",
      "Epoch 77/100\n",
      "4/4 [==============================] - 0s 13ms/step - loss: 0.1712 - accuracy: 0.9313 - val_loss: 0.1704 - val_accuracy: 0.9231\n",
      "Epoch 78/100\n",
      "4/4 [==============================] - 0s 11ms/step - loss: 0.1743 - accuracy: 0.9258 - val_loss: 0.1630 - val_accuracy: 0.9231\n",
      "Epoch 79/100\n",
      "4/4 [==============================] - 0s 12ms/step - loss: 0.1722 - accuracy: 0.9341 - val_loss: 0.1641 - val_accuracy: 0.9231\n",
      "Epoch 80/100\n",
      "4/4 [==============================] - 0s 11ms/step - loss: 0.1711 - accuracy: 0.9286 - val_loss: 0.1636 - val_accuracy: 0.9231\n",
      "Epoch 81/100\n",
      "4/4 [==============================] - 0s 11ms/step - loss: 0.1720 - accuracy: 0.9286 - val_loss: 0.1636 - val_accuracy: 0.9231\n",
      "Epoch 82/100\n",
      "4/4 [==============================] - 0s 10ms/step - loss: 0.1801 - accuracy: 0.9313 - val_loss: 0.1646 - val_accuracy: 0.9231\n",
      "Epoch 83/100\n",
      "4/4 [==============================] - 0s 12ms/step - loss: 0.1764 - accuracy: 0.9341 - val_loss: 0.1669 - val_accuracy: 0.9231\n",
      "Epoch 84/100\n",
      "4/4 [==============================] - 0s 11ms/step - loss: 0.1696 - accuracy: 0.9368 - val_loss: 0.1636 - val_accuracy: 0.9341\n",
      "Epoch 85/100\n",
      "4/4 [==============================] - 0s 11ms/step - loss: 0.1713 - accuracy: 0.9313 - val_loss: 0.1683 - val_accuracy: 0.9231\n",
      "Epoch 86/100\n",
      "4/4 [==============================] - 0s 11ms/step - loss: 0.1677 - accuracy: 0.9258 - val_loss: 0.1638 - val_accuracy: 0.9341\n",
      "Epoch 87/100\n",
      "4/4 [==============================] - 0s 12ms/step - loss: 0.1761 - accuracy: 0.9313 - val_loss: 0.1641 - val_accuracy: 0.9231\n",
      "Epoch 88/100\n",
      "4/4 [==============================] - 0s 11ms/step - loss: 0.1729 - accuracy: 0.9341 - val_loss: 0.1616 - val_accuracy: 0.9231\n",
      "Epoch 89/100\n",
      "4/4 [==============================] - 0s 12ms/step - loss: 0.1774 - accuracy: 0.9341 - val_loss: 0.1617 - val_accuracy: 0.9231\n",
      "Epoch 90/100\n",
      "4/4 [==============================] - 0s 11ms/step - loss: 0.1664 - accuracy: 0.9341 - val_loss: 0.1629 - val_accuracy: 0.9231\n",
      "Epoch 91/100\n",
      "4/4 [==============================] - 0s 11ms/step - loss: 0.1672 - accuracy: 0.9313 - val_loss: 0.1602 - val_accuracy: 0.9231\n",
      "Epoch 92/100\n",
      "4/4 [==============================] - 0s 14ms/step - loss: 0.1674 - accuracy: 0.9286 - val_loss: 0.1592 - val_accuracy: 0.9231\n",
      "Epoch 93/100\n",
      "4/4 [==============================] - 0s 11ms/step - loss: 0.1668 - accuracy: 0.9313 - val_loss: 0.1600 - val_accuracy: 0.9231\n",
      "Epoch 94/100\n",
      "4/4 [==============================] - 0s 21ms/step - loss: 0.1712 - accuracy: 0.9258 - val_loss: 0.1600 - val_accuracy: 0.9231\n",
      "Epoch 95/100\n",
      "4/4 [==============================] - 0s 12ms/step - loss: 0.1674 - accuracy: 0.9396 - val_loss: 0.1612 - val_accuracy: 0.9231\n",
      "Epoch 96/100\n",
      "4/4 [==============================] - 0s 12ms/step - loss: 0.1631 - accuracy: 0.9341 - val_loss: 0.1734 - val_accuracy: 0.9231\n",
      "Epoch 97/100\n",
      "4/4 [==============================] - 0s 10ms/step - loss: 0.1672 - accuracy: 0.9313 - val_loss: 0.1623 - val_accuracy: 0.9231\n",
      "Epoch 98/100\n",
      "4/4 [==============================] - 0s 10ms/step - loss: 0.1662 - accuracy: 0.9396 - val_loss: 0.1632 - val_accuracy: 0.9231\n",
      "Epoch 99/100\n",
      "4/4 [==============================] - 0s 12ms/step - loss: 0.1654 - accuracy: 0.9313 - val_loss: 0.1625 - val_accuracy: 0.9341\n",
      "Epoch 100/100\n",
      "4/4 [==============================] - 0s 12ms/step - loss: 0.1654 - accuracy: 0.9341 - val_loss: 0.1643 - val_accuracy: 0.9231\n"
     ]
    }
   ],
   "source": [
    "history = model.fit(X_train, y_train,\n",
    "                    validation_split=0.2,       # 학습중 검증용\n",
    "                    epochs=100,                 # 반복 횟수\n",
    "                    batch_size=100)             # 동시에 몇개의 데이터를 메모리에 로드하는가"
   ]
  },
  {
   "cell_type": "markdown",
   "metadata": {},
   "source": [
    "- 모델 평가"
   ]
  },
  {
   "cell_type": "code",
   "execution_count": 9,
   "metadata": {},
   "outputs": [
    {
     "name": "stdout",
     "output_type": "stream",
     "text": [
      "4/4 [==============================] - 0s 3ms/step - loss: 0.1610 - accuracy: 0.9474\n"
     ]
    },
    {
     "data": {
      "text/plain": [
       "[0.16101989150047302, 0.9473684430122375]"
      ]
     },
     "execution_count": 9,
     "metadata": {},
     "output_type": "execute_result"
    }
   ],
   "source": [
    "model.evaluate(X_test, y_test)"
   ]
  },
  {
   "cell_type": "markdown",
   "metadata": {},
   "source": [
    "- 훈련과정 시각화\n",
    "    - epoch에 따른 accuracy, val_loss의 변화"
   ]
  },
  {
   "cell_type": "code",
   "execution_count": 10,
   "metadata": {},
   "outputs": [],
   "source": [
    "y_acc = history.history['accuracy']\n",
    "y_vloss = history.history['val_loss']\n",
    "xs = np.arange(1, len(y_acc)+1)"
   ]
  },
  {
   "cell_type": "code",
   "execution_count": 11,
   "metadata": {},
   "outputs": [
    {
     "data": {
      "image/png": "[encoded data removed]",
      "text/plain": [
       "<Figure size 1200x600 with 1 Axes>"
      ]
     },
     "metadata": {},
     "output_type": "display_data"
    }
   ],
   "source": [
    "plt.figure(figsize=(12,6))\n",
    "plt.plot(xs, y_acc, label='train accuracy')\n",
    "plt.plot(xs, y_vloss, label='validation loss')\n",
    "plt.legend(), plt.grid()\n",
    "plt.ylim([0,1]), plt.xlabel('Epoch')\n",
    "plt.title('No feature transformation')\n",
    "plt.show()"
   ]
  },
  {
   "cell_type": "markdown",
   "metadata": {},
   "source": [
    "#### 2. 데이터를 표준화한 경우"
   ]
  },
  {
   "cell_type": "code",
   "execution_count": 12,
   "metadata": {},
   "outputs": [],
   "source": [
    "X_train2, X_test2, y_train2, y_test2 = train_test_split(\n",
    "    cancer_std, cancer.target, stratify=cancer.target, test_size=0.2, random_state=2023\n",
    ")"
   ]
  },
  {
   "cell_type": "code",
   "execution_count": 13,
   "metadata": {},
   "outputs": [
    {
     "name": "stdout",
     "output_type": "stream",
     "text": [
      "Model: \"sequential_1\"\n",
      "_________________________________________________________________\n",
      " Layer (type)                Output Shape              Param #   \n",
      "=================================================================\n",
      " dense_3 (Dense)             (None, 100)               3100      \n",
      "                                                                 \n",
      " dense_4 (Dense)             (None, 24)                2424      \n",
      "                                                                 \n",
      " dense_5 (Dense)             (None, 1)                 25        \n",
      "                                                                 \n",
      "=================================================================\n",
      "Total params: 5549 (21.68 KB)\n",
      "Trainable params: 5549 (21.68 KB)\n",
      "Non-trainable params: 0 (0.00 Byte)\n",
      "_________________________________________________________________\n"
     ]
    }
   ],
   "source": [
    "# 모델 정의\n",
    "model2 = Sequential()\n",
    "model2.add(Dense(100, input_shape=(30,), activation='relu'))\n",
    "model2.add(Dense(24, activation='relu'))\n",
    "model2.add(Dense(1, activation='sigmoid'))\n",
    "model2.summary()"
   ]
  },
  {
   "cell_type": "code",
   "execution_count": 14,
   "metadata": {},
   "outputs": [],
   "source": [
    "# 모델 컴파일\n",
    "model2.compile('adam', 'binary_crossentropy', metrics=['accuracy'])"
   ]
  },
  {
   "cell_type": "code",
   "execution_count": 15,
   "metadata": {},
   "outputs": [],
   "source": [
    "# 모델 학습\n",
    "history2 = model2.fit(X_train2, y_train2, validation_split=0.2,\n",
    "                      epochs=100, batch_size=100, verbose=0)"
   ]
  },
  {
   "cell_type": "code",
   "execution_count": 16,
   "metadata": {},
   "outputs": [
    {
     "name": "stdout",
     "output_type": "stream",
     "text": [
      "4/4 [==============================] - 0s 3ms/step - loss: 0.2826 - accuracy: 0.9561\n"
     ]
    },
    {
     "data": {
      "text/plain": [
       "[0.2825841009616852, 0.9561403393745422]"
      ]
     },
     "execution_count": 16,
     "metadata": {},
     "output_type": "execute_result"
    }
   ],
   "source": [
    "# 모델 평가\n",
    "model2.evaluate(X_test2, y_test2)"
   ]
  },
  {
   "cell_type": "code",
   "execution_count": 17,
   "metadata": {},
   "outputs": [
    {
     "data": {
      "image/png": "[encoded data removed]",
      "text/plain": [
       "<Figure size 1200x700 with 1 Axes>"
      ]
     },
     "metadata": {},
     "output_type": "display_data"
    }
   ],
   "source": [
    "# 학습과정 시각화\n",
    "y_acc2 = history2.history['accuracy']\n",
    "y_vloss2 = history2.history['val_loss']\n",
    "\n",
    "plt.figure(figsize=(12,7))\n",
    "plt.plot(xs, y_acc2, label='train accuracy')\n",
    "plt.plot(xs, y_vloss2, label='validation loss')\n",
    "plt.legend(), plt.grid()\n",
    "plt.ylim([0,1.1]), plt.xlabel('Epoch')\n",
    "plt.title('With feature transformation')\n",
    "plt.show()"
   ]
  },
  {
   "cell_type": "code",
   "execution_count": null,
   "metadata": {},
   "outputs": [],
   "source": []
  },
  {
   "cell_type": "code",
   "execution_count": null,
   "metadata": {},
   "outputs": [],
   "source": []
  }
 ],
 "metadata": {
  "kernelspec": {
   "display_name": "base",
   "language": "python",
   "name": "python3"
  },
  "language_info": {
   "codemirror_mode": {
    "name": "ipython",
    "version": 3
   },
   "file_extension": ".py",
   "mimetype": "text/x-python",
   "name": "python",
   "nbconvert_exporter": "python",
   "pygments_lexer": "ipython3",
   "version": "3.11.4"
  }
 },
 "nbformat": 4,
 "nbformat_minor": 2
}
