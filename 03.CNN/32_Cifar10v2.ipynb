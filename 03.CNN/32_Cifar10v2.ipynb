{
  "cells": [
    {
      "cell_type": "markdown",
      "metadata": {
        "id": "O7_YaxWY6DYW"
      },
      "source": [
        "## Cifar-10 이미지 분류 - v2\n",
        "- Cifar-10(Canadian Institute for Advanced Research, 10 classes)\n",
        "- 데이터 부풀리기 사용"
      ]
    },
    {
      "cell_type": "code",
      "execution_count": 1,
      "metadata": {
        "id": "GkWAMrqe6AwT"
      },
      "outputs": [],
      "source": [
        "import numpy as np\n",
        "import matplotlib.pyplot as plt\n",
        "import tensorflow as tf\n",
        "seed = 2023\n",
        "np.random.seed(seed)\n",
        "tf.random.set_seed(seed)"
      ]
    },
    {
      "cell_type": "markdown",
      "metadata": {
        "id": "UPShraf_6Z7v"
      },
      "source": [
        "- 데이터 전처리"
      ]
    },
    {
      "cell_type": "code",
      "execution_count": 2,
      "metadata": {
        "colab": {
          "base_uri": "https://localhost:8080/"
        },
        "id": "uGHZTnBF6SrH",
        "outputId": "885f2829-7008-49e5-b80b-6f3f18e246ab"
      },
      "outputs": [
        {
          "name": "stdout",
          "output_type": "stream",
          "text": [
            "Downloading data from https://www.cs.toronto.edu/~kriz/cifar-10-python.tar.gz\n",
            "170498071/170498071 [==============================] - 6s 0us/step\n"
          ]
        }
      ],
      "source": [
        "from tensorflow.keras.datasets import cifar10\n",
        "(X_train, y_train), (X_test, y_test) = cifar10.load_data()"
      ]
    },
    {
      "cell_type": "code",
      "execution_count": 3,
      "metadata": {
        "id": "XY7HOz2h6cFm"
      },
      "outputs": [],
      "source": [
        "# X data: scaling\n",
        "X_train = X_train / 255.\n",
        "X_test = X_test / 255."
      ]
    },
    {
      "cell_type": "code",
      "execution_count": 4,
      "metadata": {
        "id": "6lIGdMTA66T2"
      },
      "outputs": [],
      "source": [
        "# y data: one hot encoding\n",
        "from tensorflow.keras.utils import to_categorical\n",
        "Y_train = to_categorical(y_train)\n",
        "Y_test = to_categorical(y_test)"
      ]
    },
    {
      "cell_type": "markdown",
      "metadata": {
        "id": "EpZMqhV_7E3e"
      },
      "source": [
        "- 모델 정의/설정/학습/평가"
      ]
    },
    {
      "cell_type": "code",
      "execution_count": 5,
      "metadata": {
        "id": "NWBl_jhv7AK2"
      },
      "outputs": [],
      "source": [
        "from tensorflow.keras.models import Sequential, load_model\n",
        "from tensorflow.keras.layers import Dense, Conv2D, MaxPooling2D, Flatten, Dropout\n",
        "from tensorflow.keras.callbacks import ModelCheckpoint, EarlyStopping"
      ]
    },
    {
      "cell_type": "code",
      "execution_count": 6,
      "metadata": {
        "id": "JpN0lu7C7G_O"
      },
      "outputs": [],
      "source": [
        "model = Sequential([\n",
        "    Conv2D(32, (3,3), input_shape=X_train.shape[1:], padding='same', activation='relu'),\n",
        "    Conv2D(32, (3,3), activation='relu'),\n",
        "    MaxPooling2D(),\n",
        "    Dropout(0.25),\n",
        "    Conv2D(64, (3,3), activation='relu'),\n",
        "    Conv2D(64, (3,3), activation='relu'),\n",
        "    MaxPooling2D(),\n",
        "    Dropout(0.25),\n",
        "    Flatten(),\n",
        "    Dense(512, activation='relu'),\n",
        "    Dropout(0.5),\n",
        "    Dense(10, activation='softmax')\n",
        "])"
      ]
    },
    {
      "cell_type": "code",
      "execution_count": 7,
      "metadata": {
        "id": "8kGIaCt27NZu"
      },
      "outputs": [],
      "source": [
        "model.compile('adam', 'categorical_crossentropy', ['accuracy'])\n",
        "\n",
        "model_path = 'best-cifar10-v2.h5'\n",
        "mc = ModelCheckpoint(model_path, save_best_only=True, verbose=1)\n",
        "es = EarlyStopping(patience=5)"
      ]
    },
    {
      "cell_type": "markdown",
      "metadata": {
        "id": "o73oLpc17YAl"
      },
      "source": [
        "- 데이터 부풀리기"
      ]
    },
    {
      "cell_type": "code",
      "execution_count": 8,
      "metadata": {
        "id": "Gtg9MI9j7S2-"
      },
      "outputs": [],
      "source": [
        "from sklearn.model_selection import train_test_split\n",
        "X_train, X_valid, Y_train, Y_valid = train_test_split(\n",
        "    X_train, Y_train, stratify=Y_train, test_size=0.2, random_state=seed\n",
        ")"
      ]
    },
    {
      "cell_type": "code",
      "execution_count": 9,
      "metadata": {
        "id": "V82LXR8H74Fn"
      },
      "outputs": [],
      "source": [
        "from tensorflow.keras.preprocessing.image import ImageDataGenerator\n",
        "\n",
        "train_datagen = ImageDataGenerator(\n",
        "    rotation_range=15,      # randomly ratate images in the range (def 0 to 15)\n",
        "    width_shift_range=0.1,  # randomly shift images horizontally\n",
        "    height_shift_range=0.1, # randomly shift images vertically\n",
        "    shear_range=0.5,        # 도형의 기울기\n",
        "    zoom_range=[0.8,1.5],   # 0.8 ~ 1.5 배 크기로 임의로 확대/축소\n",
        "    horizontal_flip=True,   # randomly flip images (수평으로)\n",
        "    vertical_flip=False,    # randomly flip images (수직으로)\n",
        "    fill_mode='nearest'    # set mode for filling points outside the input boundaries\n",
        ")"
      ]
    },
    {
      "cell_type": "code",
      "execution_count": 10,
      "metadata": {
        "id": "YEZWm-Yh8msW"
      },
      "outputs": [],
      "source": [
        "train_datagen.fit(X_train)"
      ]
    },
    {
      "cell_type": "markdown",
      "metadata": {
        "id": "LnqFHuxF8qfv"
      },
      "source": [
        "- 데이터 부풀리기를 한 결과로 학습"
      ]
    },
    {
      "cell_type": "code",
      "execution_count": 11,
      "metadata": {
        "colab": {
          "base_uri": "https://localhost:8080/"
        },
        "id": "lsAWv3tJ8o4G",
        "outputId": "45f32243-9fcf-4820-9569-a054513d8071"
      },
      "outputs": [
        {
          "name": "stdout",
          "output_type": "stream",
          "text": [
            "\n",
            "Epoch 1: val_loss improved from inf to 1.42926, saving model to best-cifar10-v2.h5\n"
          ]
        },
        {
          "name": "stderr",
          "output_type": "stream",
          "text": [
            "/usr/local/lib/python3.10/dist-packages/keras/src/engine/training.py:3079: UserWarning: You are saving your model as an HDF5 file via `model.save()`. This file format is considered legacy. We recommend using instead the native Keras format, e.g. `model.save('my_model.keras')`.\n",
            "  saving_api.save_model(\n"
          ]
        },
        {
          "name": "stdout",
          "output_type": "stream",
          "text": [
            "\n",
            "Epoch 2: val_loss improved from 1.42926 to 1.31377, saving model to best-cifar10-v2.h5\n",
            "\n",
            "Epoch 3: val_loss improved from 1.31377 to 1.16228, saving model to best-cifar10-v2.h5\n",
            "\n",
            "Epoch 4: val_loss improved from 1.16228 to 1.05418, saving model to best-cifar10-v2.h5\n",
            "\n",
            "Epoch 5: val_loss improved from 1.05418 to 1.02767, saving model to best-cifar10-v2.h5\n",
            "\n",
            "Epoch 6: val_loss improved from 1.02767 to 0.99493, saving model to best-cifar10-v2.h5\n",
            "\n",
            "Epoch 7: val_loss improved from 0.99493 to 0.94504, saving model to best-cifar10-v2.h5\n",
            "\n",
            "Epoch 8: val_loss improved from 0.94504 to 0.87921, saving model to best-cifar10-v2.h5\n",
            "\n",
            "Epoch 9: val_loss did not improve from 0.87921\n",
            "\n",
            "Epoch 10: val_loss did not improve from 0.87921\n",
            "\n",
            "Epoch 11: val_loss improved from 0.87921 to 0.85738, saving model to best-cifar10-v2.h5\n",
            "\n",
            "Epoch 12: val_loss improved from 0.85738 to 0.84269, saving model to best-cifar10-v2.h5\n",
            "\n",
            "Epoch 13: val_loss did not improve from 0.84269\n",
            "\n",
            "Epoch 14: val_loss improved from 0.84269 to 0.78282, saving model to best-cifar10-v2.h5\n",
            "\n",
            "Epoch 15: val_loss did not improve from 0.78282\n",
            "\n",
            "Epoch 16: val_loss did not improve from 0.78282\n",
            "\n",
            "Epoch 17: val_loss did not improve from 0.78282\n",
            "\n",
            "Epoch 18: val_loss did not improve from 0.78282\n",
            "\n",
            "Epoch 19: val_loss did not improve from 0.78282\n"
          ]
        }
      ],
      "source": [
        "hist = model.fit(\n",
        "    train_datagen.flow(X_train, Y_train, batch_size=32),\n",
        "    validation_data=(X_valid, Y_valid),\n",
        "    epochs=100, verbose=0,\n",
        "    callbacks=[mc,es]\n",
        ")"
      ]
    },
    {
      "cell_type": "code",
      "execution_count": 12,
      "metadata": {
        "colab": {
          "base_uri": "https://localhost:8080/"
        },
        "id": "T7ADiqWr9NSe",
        "outputId": "43c82d2a-b2e7-4665-b040-f91792659f38"
      },
      "outputs": [
        {
          "name": "stdout",
          "output_type": "stream",
          "text": [
            "313/313 [==============================] - 1s 4ms/step - loss: 0.7834 - accuracy: 0.7274\n"
          ]
        },
        {
          "data": {
            "text/plain": [
              "[0.7833963632583618, 0.727400004863739]"
            ]
          },
          "execution_count": 12,
          "metadata": {},
          "output_type": "execute_result"
        }
      ],
      "source": [
        "best_model = load_model(model_path)\n",
        "best_model.evaluate(X_test, Y_test)"
      ]
    }
  ],
  "metadata": {
    "accelerator": "GPU",
    "colab": {
      "gpuType": "T4",
      "provenance": []
    },
    "kernelspec": {
      "display_name": "Python 3",
      "name": "python3"
    },
    "language_info": {
      "name": "python"
    }
  },
  "nbformat": 4,
  "nbformat_minor": 0
}
