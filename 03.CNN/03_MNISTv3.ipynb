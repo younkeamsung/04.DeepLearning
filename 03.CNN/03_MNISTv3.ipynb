{
  "cells": [
    {
      "cell_type": "markdown",
      "metadata": {
        "id": "17Ccsh7Te9tP"
      },
      "source": [
        "## MNIST 손글씨 - CNN v3\n",
        "- 2 x Conv2D layers\n",
        "- 1 MaxPooling2D layer\n",
        "- 1 Dropout(0.25) layer\n",
        "- 1 FCN layer\n",
        "- 1 Dropout(0.5) layer\n",
        "- 1 Output layer"
      ]
    },
    {
      "cell_type": "code",
      "execution_count": 1,
      "metadata": {
        "id": "Ivy4mbUrezP0"
      },
      "outputs": [],
      "source": [
        "import numpy as np\n",
        "import matplotlib.pyplot as plt\n",
        "import tensorflow as tf\n",
        "seed = 2023\n",
        "np.random.seed(seed)\n",
        "tf.random.set_seed(seed)"
      ]
    },
    {
      "cell_type": "code",
      "execution_count": 2,
      "metadata": {
        "colab": {
          "base_uri": "https://localhost:8080/",
          "height": 35
        },
        "id": "tQ_Poe6vfiyA",
        "outputId": "e1ead4cb-f7d8-4fea-f193-c6aad1e08f2d"
      },
      "outputs": [
        {
          "data": {
            "application/vnd.google.colaboratory.intrinsic+json": {
              "type": "string"
            },
            "text/plain": [
              "'2.14.0'"
            ]
          },
          "execution_count": 2,
          "metadata": {},
          "output_type": "execute_result"
        }
      ],
      "source": [
        "tf.__version__"
      ]
    },
    {
      "cell_type": "markdown",
      "metadata": {
        "id": "GoxcTJUcfhLI"
      },
      "source": [
        "- 데이터 전처리"
      ]
    },
    {
      "cell_type": "code",
      "execution_count": 3,
      "metadata": {
        "colab": {
          "base_uri": "https://localhost:8080/"
        },
        "id": "lkxV__iEfZRS",
        "outputId": "ca235fff-72e0-49cd-dd39-7c5012a5fedd"
      },
      "outputs": [
        {
          "name": "stdout",
          "output_type": "stream",
          "text": [
            "Downloading data from https://storage.googleapis.com/tensorflow/tf-keras-datasets/mnist.npz\n",
            "11490434/11490434 [==============================] - 0s 0us/step\n"
          ]
        },
        {
          "data": {
            "text/plain": [
              "((60000, 28, 28), (60000,), (10000, 28, 28), (10000,))"
            ]
          },
          "execution_count": 3,
          "metadata": {},
          "output_type": "execute_result"
        }
      ],
      "source": [
        "from tensorflow.keras.datasets import mnist\n",
        "(X_train, y_train), (X_test, y_test) = mnist.load_data()\n",
        "X_train.shape, y_train.shape, X_test.shape, y_test.shape"
      ]
    },
    {
      "cell_type": "code",
      "execution_count": 4,
      "metadata": {
        "id": "sgLPkNlaf9qo"
      },
      "outputs": [],
      "source": [
        "# X data의 차원 변경 및 정규화(0 ~ 1)\n",
        "X_train = X_train.reshape(-1, 28, 28, 1) / 255.\n",
        "X_test = X_test.reshape(-1, 28, 28, 1) / 255."
      ]
    },
    {
      "cell_type": "code",
      "execution_count": 5,
      "metadata": {
        "colab": {
          "base_uri": "https://localhost:8080/"
        },
        "id": "W5XrwZgEgd3n",
        "outputId": "2649b7e3-6be4-4c49-ed4e-f405d4eb08d4"
      },
      "outputs": [
        {
          "data": {
            "text/plain": [
              "((60000, 10), (10000, 10))"
            ]
          },
          "execution_count": 5,
          "metadata": {},
          "output_type": "execute_result"
        }
      ],
      "source": [
        "# y_data의 one-hot-encoding\n",
        "from tensorflow.keras.utils import to_categorical\n",
        "Y_train = to_categorical(y_train)\n",
        "Y_test = to_categorical(y_test)\n",
        "Y_train.shape, Y_test.shape"
      ]
    },
    {
      "cell_type": "markdown",
      "metadata": {
        "id": "dPT6xx6whEaZ"
      },
      "source": [
        "- 모델 정의/설정/학습/평가"
      ]
    },
    {
      "cell_type": "code",
      "execution_count": 6,
      "metadata": {
        "id": "yTr0YJiOgzqY"
      },
      "outputs": [],
      "source": [
        "from tensorflow.keras.models import Sequential, load_model\n",
        "from tensorflow.keras.layers import Conv2D, Dense, Flatten, MaxPooling2D, Dropout\n",
        "from tensorflow.keras.callbacks import ModelCheckpoint, EarlyStopping"
      ]
    },
    {
      "cell_type": "code",
      "execution_count": 7,
      "metadata": {
        "colab": {
          "base_uri": "https://localhost:8080/"
        },
        "id": "PUTGRNiohWkZ",
        "outputId": "f141045f-d6ec-49bf-a7bf-903ff55acb56"
      },
      "outputs": [
        {
          "name": "stdout",
          "output_type": "stream",
          "text": [
            "Model: \"sequential\"\n",
            "_________________________________________________________________\n",
            " Layer (type)                Output Shape              Param #   \n",
            "=================================================================\n",
            " conv2d (Conv2D)             (None, 26, 26, 32)        320       \n",
            "                                                                 \n",
            " conv2d_1 (Conv2D)           (None, 24, 24, 64)        18496     \n",
            "                                                                 \n",
            " max_pooling2d (MaxPooling2  (None, 12, 12, 64)        0         \n",
            " D)                                                              \n",
            "                                                                 \n",
            " dropout (Dropout)           (None, 12, 12, 64)        0         \n",
            "                                                                 \n",
            " flatten (Flatten)           (None, 9216)              0         \n",
            "                                                                 \n",
            " dense (Dense)               (None, 512)               4719104   \n",
            "                                                                 \n",
            " dropout_1 (Dropout)         (None, 512)               0         \n",
            "                                                                 \n",
            " dense_1 (Dense)             (None, 10)                5130      \n",
            "                                                                 \n",
            "=================================================================\n",
            "Total params: 4743050 (18.09 MB)\n",
            "Trainable params: 4743050 (18.09 MB)\n",
            "Non-trainable params: 0 (0.00 Byte)\n",
            "_________________________________________________________________\n"
          ]
        }
      ],
      "source": [
        "model = Sequential([\n",
        "    Conv2D(32, kernel_size=(3,3), input_shape=(28,28,1), activation='relu'),\n",
        "    Conv2D(64, (3,3), activation='relu'),\n",
        "    MaxPooling2D(),                     # MaxPooling2D(pool_size=(2,2))\n",
        "    Dropout(0.25),\n",
        "    Flatten(),\n",
        "    Dense(512, activation='relu'),\n",
        "    Dropout(0.5),\n",
        "    Dense(10, activation='softmax')\n",
        "])\n",
        "model.summary()"
      ]
    },
    {
      "cell_type": "markdown",
      "metadata": {
        "id": "lbdkCYqwjAqA"
      },
      "source": [
        "- 2 번째 Param\n",
        "- 필터 3 X 3\n",
        "- X 64 + 64"
      ]
    },
    {
      "cell_type": "code",
      "execution_count": 8,
      "metadata": {
        "id": "YJeOyKTeiOrQ"
      },
      "outputs": [],
      "source": [
        "model.compile('adam', 'categorical_crossentropy', metrics=['accuracy'])"
      ]
    },
    {
      "cell_type": "code",
      "execution_count": 9,
      "metadata": {
        "colab": {
          "base_uri": "https://localhost:8080/"
        },
        "id": "ceSehPafkOEP",
        "outputId": "d51ab26f-30db-43b6-8082-346e0765b07a"
      },
      "outputs": [
        {
          "name": "stdout",
          "output_type": "stream",
          "text": [
            "total 8\n",
            "drwxr-xr-x 2 root root 4096 Nov  8 02:13 models\n",
            "drwxr-xr-x 1 root root 4096 Nov  6 14:20 sample_data\n"
          ]
        }
      ],
      "source": [
        "!mkdir models\n",
        "!ls -l"
      ]
    },
    {
      "cell_type": "code",
      "execution_count": 10,
      "metadata": {
        "id": "cHfxjmKvj9pi"
      },
      "outputs": [],
      "source": [
        "model_path = 'models/best-mnist-v3.h5'\n",
        "mc = ModelCheckpoint(model_path, save_best_only=True, verbose=1)\n",
        "es = EarlyStopping(patience=5)"
      ]
    },
    {
      "cell_type": "code",
      "execution_count": 11,
      "metadata": {
        "colab": {
          "base_uri": "https://localhost:8080/"
        },
        "id": "20dYud3xlDQQ",
        "outputId": "4f7dd37a-3579-4237-ac86-7cb763cd54ac"
      },
      "outputs": [
        {
          "name": "stdout",
          "output_type": "stream",
          "text": [
            "Epoch 1/100\n",
            "188/188 [==============================] - ETA: 0s - loss: 0.2446 - accuracy: 0.9230\n",
            "Epoch 1: val_loss improved from inf to 0.06280, saving model to models/best-mnist-v3.h5\n",
            "188/188 [==============================] - 17s 20ms/step - loss: 0.2446 - accuracy: 0.9230 - val_loss: 0.0628 - val_accuracy: 0.9827\n",
            "Epoch 2/100\n",
            "  1/188 [..............................] - ETA: 3s - loss: 0.0714 - accuracy: 0.9688"
          ]
        },
        {
          "name": "stderr",
          "output_type": "stream",
          "text": [
            "/usr/local/lib/python3.10/dist-packages/keras/src/engine/training.py:3079: UserWarning: You are saving your model as an HDF5 file via `model.save()`. This file format is considered legacy. We recommend using instead the native Keras format, e.g. `model.save('my_model.keras')`.\n",
            "  saving_api.save_model(\n"
          ]
        },
        {
          "name": "stdout",
          "output_type": "stream",
          "text": [
            "188/188 [==============================] - ETA: 0s - loss: 0.0651 - accuracy: 0.9801\n",
            "Epoch 2: val_loss improved from 0.06280 to 0.04402, saving model to models/best-mnist-v3.h5\n",
            "188/188 [==============================] - 3s 18ms/step - loss: 0.0651 - accuracy: 0.9801 - val_loss: 0.0440 - val_accuracy: 0.9877\n",
            "Epoch 3/100\n",
            "188/188 [==============================] - ETA: 0s - loss: 0.0470 - accuracy: 0.9850\n",
            "Epoch 3: val_loss improved from 0.04402 to 0.03986, saving model to models/best-mnist-v3.h5\n",
            "188/188 [==============================] - 3s 18ms/step - loss: 0.0470 - accuracy: 0.9850 - val_loss: 0.0399 - val_accuracy: 0.9884\n",
            "Epoch 4/100\n",
            "186/188 [============================>.] - ETA: 0s - loss: 0.0339 - accuracy: 0.9888\n",
            "Epoch 4: val_loss improved from 0.03986 to 0.03756, saving model to models/best-mnist-v3.h5\n",
            "188/188 [==============================] - 3s 18ms/step - loss: 0.0337 - accuracy: 0.9888 - val_loss: 0.0376 - val_accuracy: 0.9888\n",
            "Epoch 5/100\n",
            "186/188 [============================>.] - ETA: 0s - loss: 0.0286 - accuracy: 0.9907\n",
            "Epoch 5: val_loss did not improve from 0.03756\n",
            "188/188 [==============================] - 3s 17ms/step - loss: 0.0286 - accuracy: 0.9907 - val_loss: 0.0380 - val_accuracy: 0.9897\n",
            "Epoch 6/100\n",
            "186/188 [============================>.] - ETA: 0s - loss: 0.0250 - accuracy: 0.9914\n",
            "Epoch 6: val_loss improved from 0.03756 to 0.03552, saving model to models/best-mnist-v3.h5\n",
            "188/188 [==============================] - 3s 18ms/step - loss: 0.0249 - accuracy: 0.9914 - val_loss: 0.0355 - val_accuracy: 0.9903\n",
            "Epoch 7/100\n",
            "186/188 [============================>.] - ETA: 0s - loss: 0.0183 - accuracy: 0.9940\n",
            "Epoch 7: val_loss did not improve from 0.03552\n",
            "188/188 [==============================] - 3s 18ms/step - loss: 0.0183 - accuracy: 0.9940 - val_loss: 0.0371 - val_accuracy: 0.9897\n",
            "Epoch 8/100\n",
            "186/188 [============================>.] - ETA: 0s - loss: 0.0173 - accuracy: 0.9946\n",
            "Epoch 8: val_loss did not improve from 0.03552\n",
            "188/188 [==============================] - 3s 17ms/step - loss: 0.0173 - accuracy: 0.9946 - val_loss: 0.0404 - val_accuracy: 0.9891\n",
            "Epoch 9/100\n",
            "188/188 [==============================] - ETA: 0s - loss: 0.0143 - accuracy: 0.9954\n",
            "Epoch 9: val_loss improved from 0.03552 to 0.03497, saving model to models/best-mnist-v3.h5\n",
            "188/188 [==============================] - 3s 17ms/step - loss: 0.0143 - accuracy: 0.9954 - val_loss: 0.0350 - val_accuracy: 0.9911\n",
            "Epoch 10/100\n",
            "187/188 [============================>.] - ETA: 0s - loss: 0.0134 - accuracy: 0.9953\n",
            "Epoch 10: val_loss improved from 0.03497 to 0.03439, saving model to models/best-mnist-v3.h5\n",
            "188/188 [==============================] - 3s 19ms/step - loss: 0.0134 - accuracy: 0.9953 - val_loss: 0.0344 - val_accuracy: 0.9909\n",
            "Epoch 11/100\n",
            "187/188 [============================>.] - ETA: 0s - loss: 0.0125 - accuracy: 0.9955\n",
            "Epoch 11: val_loss did not improve from 0.03439\n",
            "188/188 [==============================] - 3s 17ms/step - loss: 0.0125 - accuracy: 0.9955 - val_loss: 0.0394 - val_accuracy: 0.9903\n",
            "Epoch 12/100\n",
            "187/188 [============================>.] - ETA: 0s - loss: 0.0117 - accuracy: 0.9959\n",
            "Epoch 12: val_loss did not improve from 0.03439\n",
            "188/188 [==============================] - 3s 17ms/step - loss: 0.0117 - accuracy: 0.9959 - val_loss: 0.0371 - val_accuracy: 0.9905\n",
            "Epoch 13/100\n",
            "187/188 [============================>.] - ETA: 0s - loss: 0.0105 - accuracy: 0.9963\n",
            "Epoch 13: val_loss did not improve from 0.03439\n",
            "188/188 [==============================] - 3s 17ms/step - loss: 0.0104 - accuracy: 0.9963 - val_loss: 0.0352 - val_accuracy: 0.9908\n",
            "Epoch 14/100\n",
            "185/188 [============================>.] - ETA: 0s - loss: 0.0083 - accuracy: 0.9972\n",
            "Epoch 14: val_loss did not improve from 0.03439\n",
            "188/188 [==============================] - 3s 18ms/step - loss: 0.0083 - accuracy: 0.9972 - val_loss: 0.0415 - val_accuracy: 0.9909\n",
            "Epoch 15/100\n",
            "186/188 [============================>.] - ETA: 0s - loss: 0.0087 - accuracy: 0.9971\n",
            "Epoch 15: val_loss did not improve from 0.03439\n",
            "188/188 [==============================] - 3s 17ms/step - loss: 0.0087 - accuracy: 0.9970 - val_loss: 0.0360 - val_accuracy: 0.9914\n"
          ]
        }
      ],
      "source": [
        "hist = model.fit(\n",
        "    X_train, Y_train, validation_split=0.2, epochs=100, batch_size=256,\n",
        "    callbacks=[mc, es]\n",
        ")"
      ]
    },
    {
      "cell_type": "code",
      "execution_count": 12,
      "metadata": {
        "colab": {
          "base_uri": "https://localhost:8080/"
        },
        "id": "Nqx90PG-lbj_",
        "outputId": "2d0e6c23-2bea-429b-d542-8d9a138d270e"
      },
      "outputs": [
        {
          "name": "stdout",
          "output_type": "stream",
          "text": [
            "313/313 [==============================] - 1s 3ms/step - loss: 0.0272 - accuracy: 0.9924\n"
          ]
        },
        {
          "data": {
            "text/plain": [
              "[0.02720819041132927, 0.9923999905586243]"
            ]
          },
          "execution_count": 12,
          "metadata": {},
          "output_type": "execute_result"
        }
      ],
      "source": [
        "best_model = load_model(model_path)\n",
        "best_model.evaluate(X_test, Y_test)"
      ]
    },
    {
      "cell_type": "markdown",
      "metadata": {
        "id": "V2CDsFFgmluO"
      },
      "source": [
        "- 학습과정 시각화"
      ]
    },
    {
      "cell_type": "code",
      "execution_count": 13,
      "metadata": {
        "id": "Nlo8MYCAmdYf"
      },
      "outputs": [],
      "source": [
        "y_acc = hist.history['accuracy']\n",
        "y_vloss = hist.history['val_loss']\n",
        "xs = np.arange(1, len(y_acc)+1)"
      ]
    },
    {
      "cell_type": "code",
      "execution_count": 15,
      "metadata": {
        "colab": {
          "base_uri": "https://localhost:8080/",
          "height": 564
        },
        "id": "hDJy3g3nmsPG",
        "outputId": "aa9c19de-9fdd-4358-a11e-dd684be6ec68"
      },
      "outputs": [
        {
          "data": {
            "image/png": "[encoded data removed]",
            "text/plain": [
              "<Figure size 1200x600 with 1 Axes>"
            ]
          },
          "metadata": {},
          "output_type": "display_data"
        }
      ],
      "source": [
        "plt.figure(figsize=(12,6))\n",
        "plt.plot(xs, y_acc, label='train accuracy')\n",
        "plt.plot(xs, y_vloss, label='validation loss')\n",
        "plt.legend(), plt.grid(), plt.xlabel('epoch')\n",
        "plt.title('MNIST CNN Model v3')\n",
        "plt.show()"
      ]
    },
    {
      "cell_type": "code",
      "execution_count": 14,
      "metadata": {
        "id": "b2v4TIbEmwoG"
      },
      "outputs": [],
      "source": []
    }
  ],
  "metadata": {
    "accelerator": "GPU",
    "colab": {
      "gpuType": "T4",
      "provenance": []
    },
    "kernelspec": {
      "display_name": "Python 3",
      "name": "python3"
    },
    "language_info": {
      "name": "python"
    }
  },
  "nbformat": 4,
  "nbformat_minor": 0
}
