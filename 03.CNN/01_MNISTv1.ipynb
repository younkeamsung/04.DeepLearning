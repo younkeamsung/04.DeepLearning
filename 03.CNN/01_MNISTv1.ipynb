{
  "cells": [
    {
      "cell_type": "markdown",
      "metadata": {
        "id": "17Ccsh7Te9tP"
      },
      "source": [
        "## MNIST 손글씨 - CNN v1\n",
        "- 2 x Conv2D layers\n",
        "- 1 FCN layer\n",
        "- 1 Output layer"
      ]
    },
    {
      "cell_type": "code",
      "execution_count": 1,
      "metadata": {
        "id": "Ivy4mbUrezP0"
      },
      "outputs": [],
      "source": [
        "import numpy as np\n",
        "import matplotlib.pyplot as plt\n",
        "import tensorflow as tf\n",
        "seed = 2023\n",
        "np.random.seed(seed)\n",
        "tf.random.set_seed(seed)"
      ]
    },
    {
      "cell_type": "code",
      "execution_count": 2,
      "metadata": {
        "colab": {
          "base_uri": "https://localhost:8080/",
          "height": 35
        },
        "id": "tQ_Poe6vfiyA",
        "outputId": "a51ff8bc-b724-410f-f2e1-94f6bc4f7fd4"
      },
      "outputs": [
        {
          "data": {
            "application/vnd.google.colaboratory.intrinsic+json": {
              "type": "string"
            },
            "text/plain": [
              "'2.14.0'"
            ]
          },
          "execution_count": 2,
          "metadata": {},
          "output_type": "execute_result"
        }
      ],
      "source": [
        "tf.__version__"
      ]
    },
    {
      "cell_type": "markdown",
      "metadata": {
        "id": "GoxcTJUcfhLI"
      },
      "source": [
        "- 데이터 전처리"
      ]
    },
    {
      "cell_type": "code",
      "execution_count": 3,
      "metadata": {
        "colab": {
          "base_uri": "https://localhost:8080/"
        },
        "id": "lkxV__iEfZRS",
        "outputId": "2fa12e08-9526-4800-d4c9-6e627e8b9d7b"
      },
      "outputs": [
        {
          "name": "stdout",
          "output_type": "stream",
          "text": [
            "Downloading data from https://storage.googleapis.com/tensorflow/tf-keras-datasets/mnist.npz\n",
            "11490434/11490434 [==============================] - 0s 0us/step\n"
          ]
        },
        {
          "data": {
            "text/plain": [
              "((60000, 28, 28), (60000,), (10000, 28, 28), (10000,))"
            ]
          },
          "execution_count": 3,
          "metadata": {},
          "output_type": "execute_result"
        }
      ],
      "source": [
        "from tensorflow.keras.datasets import mnist\n",
        "(X_train, y_train), (X_test, y_test) = mnist.load_data()\n",
        "X_train.shape, y_train.shape, X_test.shape, y_test.shape"
      ]
    },
    {
      "cell_type": "code",
      "execution_count": 4,
      "metadata": {
        "id": "sgLPkNlaf9qo"
      },
      "outputs": [],
      "source": [
        "# X data의 차원 변경 및 정규화(0 ~ 1)\n",
        "X_train = X_train.reshape(-1, 28, 28, 1) / 255.\n",
        "X_test = X_test.reshape(-1, 28, 28, 1) / 255."
      ]
    },
    {
      "cell_type": "code",
      "execution_count": 5,
      "metadata": {
        "colab": {
          "base_uri": "https://localhost:8080/"
        },
        "id": "W5XrwZgEgd3n",
        "outputId": "10513087-b8a3-4ea4-993c-098fbbb24785"
      },
      "outputs": [
        {
          "data": {
            "text/plain": [
              "((60000, 10), (10000, 10))"
            ]
          },
          "execution_count": 5,
          "metadata": {},
          "output_type": "execute_result"
        }
      ],
      "source": [
        "# y_data의 one-hot-encoding\n",
        "from tensorflow.keras.utils import to_categorical\n",
        "Y_train = to_categorical(y_train)\n",
        "Y_test = to_categorical(y_test)\n",
        "Y_train.shape, Y_test.shape"
      ]
    },
    {
      "cell_type": "markdown",
      "metadata": {
        "id": "dPT6xx6whEaZ"
      },
      "source": [
        "- 모델 정의/설정/학습/평가"
      ]
    },
    {
      "cell_type": "code",
      "execution_count": 6,
      "metadata": {
        "id": "yTr0YJiOgzqY"
      },
      "outputs": [],
      "source": [
        "from tensorflow.keras.models import Sequential, load_model\n",
        "from tensorflow.keras.layers import Conv2D, Dense, Flatten\n",
        "from tensorflow.keras.callbacks import ModelCheckpoint, EarlyStopping"
      ]
    },
    {
      "cell_type": "code",
      "execution_count": 7,
      "metadata": {
        "colab": {
          "base_uri": "https://localhost:8080/"
        },
        "id": "PUTGRNiohWkZ",
        "outputId": "c7cb3f65-609b-41fc-a952-68f9a98e3b1d"
      },
      "outputs": [
        {
          "name": "stdout",
          "output_type": "stream",
          "text": [
            "Model: \"sequential\"\n",
            "_________________________________________________________________\n",
            " Layer (type)                Output Shape              Param #   \n",
            "=================================================================\n",
            " conv2d (Conv2D)             (None, 26, 26, 32)        320       \n",
            "                                                                 \n",
            " conv2d_1 (Conv2D)           (None, 24, 24, 64)        18496     \n",
            "                                                                 \n",
            " flatten (Flatten)           (None, 36864)             0         \n",
            "                                                                 \n",
            " dense (Dense)               (None, 512)               18874880  \n",
            "                                                                 \n",
            " dense_1 (Dense)             (None, 10)                5130      \n",
            "                                                                 \n",
            "=================================================================\n",
            "Total params: 18898826 (72.09 MB)\n",
            "Trainable params: 18898826 (72.09 MB)\n",
            "Non-trainable params: 0 (0.00 Byte)\n",
            "_________________________________________________________________\n"
          ]
        }
      ],
      "source": [
        "model = Sequential([\n",
        "    Conv2D(32, kernel_size=(3,3), input_shape=(28,28,1), activation='relu'),\n",
        "    Conv2D(64, (3,3), activation='relu'),\n",
        "    Flatten(),\n",
        "    Dense(512, activation='relu'),\n",
        "    Dense(10, activation='softmax')\n",
        "])\n",
        "model.summary()"
      ]
    },
    {
      "cell_type": "markdown",
      "metadata": {
        "id": "lbdkCYqwjAqA"
      },
      "source": [
        "- 2 번째 Param\n",
        "- 필터 3 X 3\n",
        "- X 64 + 64"
      ]
    },
    {
      "cell_type": "code",
      "execution_count": 8,
      "metadata": {
        "id": "YJeOyKTeiOrQ"
      },
      "outputs": [],
      "source": [
        "model.compile('adam', 'categorical_crossentropy', metrics=['accuracy'])"
      ]
    },
    {
      "cell_type": "code",
      "execution_count": 9,
      "metadata": {
        "colab": {
          "base_uri": "https://localhost:8080/"
        },
        "id": "ceSehPafkOEP",
        "outputId": "b1eb9313-0071-4e3f-9a68-9788cc73c592"
      },
      "outputs": [
        {
          "name": "stdout",
          "output_type": "stream",
          "text": [
            "total 8\n",
            "drwxr-xr-x 2 root root 4096 Nov  8 01:41 models\n",
            "drwxr-xr-x 1 root root 4096 Nov  6 14:20 sample_data\n"
          ]
        }
      ],
      "source": [
        "!mkdir models\n",
        "!ls -l"
      ]
    },
    {
      "cell_type": "code",
      "execution_count": 10,
      "metadata": {
        "id": "cHfxjmKvj9pi"
      },
      "outputs": [],
      "source": [
        "model_path = 'models/best-mnist-v1.h5'\n",
        "mc = ModelCheckpoint(model_path, save_best_only=True, verbose=1)\n",
        "es = EarlyStopping(patience=10)"
      ]
    },
    {
      "cell_type": "code",
      "execution_count": 11,
      "metadata": {
        "colab": {
          "base_uri": "https://localhost:8080/"
        },
        "id": "20dYud3xlDQQ",
        "outputId": "6aaefd91-2511-4658-93e9-bd070c5e8477"
      },
      "outputs": [
        {
          "name": "stdout",
          "output_type": "stream",
          "text": [
            "Epoch 1/100\n",
            "188/188 [==============================] - ETA: 0s - loss: 0.1660 - accuracy: 0.9475\n",
            "Epoch 1: val_loss improved from inf to 0.05645, saving model to models/best-mnist-v1.h5\n"
          ]
        },
        {
          "name": "stderr",
          "output_type": "stream",
          "text": [
            "/usr/local/lib/python3.10/dist-packages/keras/src/engine/training.py:3079: UserWarning: You are saving your model as an HDF5 file via `model.save()`. This file format is considered legacy. We recommend using instead the native Keras format, e.g. `model.save('my_model.keras')`.\n",
            "  saving_api.save_model(\n"
          ]
        },
        {
          "name": "stdout",
          "output_type": "stream",
          "text": [
            "\b\b\b\b\b\b\b\b\b\b\b\b\b\b\b\b\b\b\b\b\b\b\b\b\b\b\b\b\b\b\b\b\b\b\b\b\b\b\b\b\b\b\b\b\b\b\b\b\b\b\b\b\b\b\b\b\b\b\b\b\b\b\b\b\b\b\b\b\b\b\b\b\b\b\b\b\b\b\b\b\b\b\b\b\r188/188 [==============================] - 16s 29ms/step - loss: 0.1660 - accuracy: 0.9475 - val_loss: 0.0564 - val_accuracy: 0.9841\n",
            "Epoch 2/100\n",
            "187/188 [============================>.] - ETA: 0s - loss: 0.0402 - accuracy: 0.9876\n",
            "Epoch 2: val_loss improved from 0.05645 to 0.04584, saving model to models/best-mnist-v1.h5\n",
            "188/188 [==============================] - 5s 25ms/step - loss: 0.0402 - accuracy: 0.9876 - val_loss: 0.0458 - val_accuracy: 0.9868\n",
            "Epoch 3/100\n",
            "187/188 [============================>.] - ETA: 0s - loss: 0.0187 - accuracy: 0.9945\n",
            "Epoch 3: val_loss did not improve from 0.04584\n",
            "188/188 [==============================] - 4s 21ms/step - loss: 0.0187 - accuracy: 0.9945 - val_loss: 0.0545 - val_accuracy: 0.9847\n",
            "Epoch 4/100\n",
            "187/188 [============================>.] - ETA: 0s - loss: 0.0098 - accuracy: 0.9967\n",
            "Epoch 4: val_loss did not improve from 0.04584\n",
            "188/188 [==============================] - 4s 21ms/step - loss: 0.0098 - accuracy: 0.9967 - val_loss: 0.0476 - val_accuracy: 0.9866\n",
            "Epoch 5/100\n",
            "187/188 [============================>.] - ETA: 0s - loss: 0.0064 - accuracy: 0.9981\n",
            "Epoch 5: val_loss did not improve from 0.04584\n",
            "188/188 [==============================] - 4s 22ms/step - loss: 0.0065 - accuracy: 0.9980 - val_loss: 0.0554 - val_accuracy: 0.9874\n",
            "Epoch 6/100\n",
            "187/188 [============================>.] - ETA: 0s - loss: 0.0070 - accuracy: 0.9977\n",
            "Epoch 6: val_loss did not improve from 0.04584\n",
            "188/188 [==============================] - 4s 21ms/step - loss: 0.0070 - accuracy: 0.9977 - val_loss: 0.0534 - val_accuracy: 0.9871\n",
            "Epoch 7/100\n",
            "187/188 [============================>.] - ETA: 0s - loss: 0.0039 - accuracy: 0.9988\n",
            "Epoch 7: val_loss improved from 0.04584 to 0.04555, saving model to models/best-mnist-v1.h5\n",
            "188/188 [==============================] - 5s 24ms/step - loss: 0.0039 - accuracy: 0.9988 - val_loss: 0.0456 - val_accuracy: 0.9891\n",
            "Epoch 8/100\n",
            "187/188 [============================>.] - ETA: 0s - loss: 0.0020 - accuracy: 0.9993\n",
            "Epoch 8: val_loss did not improve from 0.04555\n",
            "188/188 [==============================] - 4s 22ms/step - loss: 0.0020 - accuracy: 0.9993 - val_loss: 0.0571 - val_accuracy: 0.9877\n",
            "Epoch 9/100\n",
            "187/188 [============================>.] - ETA: 0s - loss: 0.0029 - accuracy: 0.9990\n",
            "Epoch 9: val_loss did not improve from 0.04555\n",
            "188/188 [==============================] - 4s 21ms/step - loss: 0.0029 - accuracy: 0.9990 - val_loss: 0.0714 - val_accuracy: 0.9852\n",
            "Epoch 10/100\n",
            "188/188 [==============================] - ETA: 0s - loss: 0.0063 - accuracy: 0.9980\n",
            "Epoch 10: val_loss did not improve from 0.04555\n",
            "188/188 [==============================] - 4s 22ms/step - loss: 0.0063 - accuracy: 0.9980 - val_loss: 0.0537 - val_accuracy: 0.9870\n",
            "Epoch 11/100\n",
            "187/188 [============================>.] - ETA: 0s - loss: 0.0052 - accuracy: 0.9981\n",
            "Epoch 11: val_loss did not improve from 0.04555\n",
            "188/188 [==============================] - 4s 22ms/step - loss: 0.0053 - accuracy: 0.9981 - val_loss: 0.0702 - val_accuracy: 0.9859\n",
            "Epoch 12/100\n",
            "187/188 [============================>.] - ETA: 0s - loss: 0.0036 - accuracy: 0.9987\n",
            "Epoch 12: val_loss did not improve from 0.04555\n",
            "188/188 [==============================] - 4s 21ms/step - loss: 0.0036 - accuracy: 0.9987 - val_loss: 0.0640 - val_accuracy: 0.9874\n",
            "Epoch 13/100\n",
            "187/188 [============================>.] - ETA: 0s - loss: 0.0018 - accuracy: 0.9995\n",
            "Epoch 13: val_loss did not improve from 0.04555\n",
            "188/188 [==============================] - 4s 22ms/step - loss: 0.0018 - accuracy: 0.9995 - val_loss: 0.0640 - val_accuracy: 0.9883\n",
            "Epoch 14/100\n",
            "187/188 [============================>.] - ETA: 0s - loss: 7.9624e-04 - accuracy: 0.9997\n",
            "Epoch 14: val_loss did not improve from 0.04555\n",
            "188/188 [==============================] - 4s 22ms/step - loss: 7.9418e-04 - accuracy: 0.9997 - val_loss: 0.0656 - val_accuracy: 0.9891\n",
            "Epoch 15/100\n",
            "187/188 [============================>.] - ETA: 0s - loss: 0.0013 - accuracy: 0.9997\n",
            "Epoch 15: val_loss did not improve from 0.04555\n",
            "188/188 [==============================] - 4s 22ms/step - loss: 0.0013 - accuracy: 0.9997 - val_loss: 0.0591 - val_accuracy: 0.9898\n",
            "Epoch 16/100\n",
            "187/188 [============================>.] - ETA: 0s - loss: 0.0021 - accuracy: 0.9994\n",
            "Epoch 16: val_loss did not improve from 0.04555\n",
            "188/188 [==============================] - 4s 21ms/step - loss: 0.0021 - accuracy: 0.9994 - val_loss: 0.0561 - val_accuracy: 0.9890\n",
            "Epoch 17/100\n",
            "187/188 [============================>.] - ETA: 0s - loss: 0.0031 - accuracy: 0.9991\n",
            "Epoch 17: val_loss did not improve from 0.04555\n",
            "188/188 [==============================] - 4s 22ms/step - loss: 0.0033 - accuracy: 0.9991 - val_loss: 0.0653 - val_accuracy: 0.9864\n"
          ]
        }
      ],
      "source": [
        "hist = model.fit(\n",
        "    X_train, Y_train, validation_split=0.2, epochs=100, batch_size=256,\n",
        "    callbacks=[mc, es]\n",
        ")"
      ]
    },
    {
      "cell_type": "code",
      "execution_count": 12,
      "metadata": {
        "colab": {
          "base_uri": "https://localhost:8080/"
        },
        "id": "Nqx90PG-lbj_",
        "outputId": "ea8f2d4c-a122-4f55-e3b0-b78568526ad0"
      },
      "outputs": [
        {
          "name": "stdout",
          "output_type": "stream",
          "text": [
            "313/313 [==============================] - 1s 4ms/step - loss: 0.0415 - accuracy: 0.9882\n"
          ]
        },
        {
          "data": {
            "text/plain": [
              "[0.04146439954638481, 0.9882000088691711]"
            ]
          },
          "execution_count": 12,
          "metadata": {},
          "output_type": "execute_result"
        }
      ],
      "source": [
        "best_model = load_model(model_path)\n",
        "best_model.evaluate(X_test, Y_test)"
      ]
    },
    {
      "cell_type": "markdown",
      "metadata": {
        "id": "V2CDsFFgmluO"
      },
      "source": [
        "- 학습과정 시각화"
      ]
    },
    {
      "cell_type": "code",
      "execution_count": 13,
      "metadata": {
        "id": "Nlo8MYCAmdYf"
      },
      "outputs": [],
      "source": [
        "y_acc = hist.history['accuracy']\n",
        "y_vloss = hist.history['val_loss']\n",
        "xs = np.arange(1, len(y_acc)+1)"
      ]
    },
    {
      "cell_type": "code",
      "execution_count": 15,
      "metadata": {
        "colab": {
          "base_uri": "https://localhost:8080/",
          "height": 564
        },
        "id": "hDJy3g3nmsPG",
        "outputId": "20108336-dfcc-46af-c147-de4ab8a5d337"
      },
      "outputs": [
        {
          "data": {
            "image/png": "[encoded data removed]",
            "text/plain": [
              "<Figure size 1200x600 with 1 Axes>"
            ]
          },
          "metadata": {},
          "output_type": "display_data"
        }
      ],
      "source": [
        "plt.figure(figsize=(12,6))\n",
        "plt.plot(xs, y_acc, label='train accuracy')\n",
        "plt.plot(xs, y_vloss, label='validation loss')\n",
        "plt.legend(), plt.grid(), plt.xlabel('epoch')\n",
        "plt.title('MNIST CNN Model v1')\n",
        "plt.show()"
      ]
    },
    {
      "cell_type": "code",
      "execution_count": null,
      "metadata": {
        "id": "b2v4TIbEmwoG"
      },
      "outputs": [],
      "source": []
    }
  ],
  "metadata": {
    "accelerator": "GPU",
    "colab": {
      "gpuType": "T4",
      "provenance": []
    },
    "kernelspec": {
      "display_name": "Python 3",
      "name": "python3"
    },
    "language_info": {
      "name": "python"
    }
  },
  "nbformat": 4,
  "nbformat_minor": 0
}
